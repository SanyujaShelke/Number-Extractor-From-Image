{
 "cells": [
  {
   "cell_type": "code",
   "execution_count": 45,
   "metadata": {},
   "outputs": [],
   "source": [
    "# Importing Dependancies"
   ]
  },
  {
   "cell_type": "code",
   "execution_count": 46,
   "metadata": {},
   "outputs": [],
   "source": [
    "import cv2\n",
    "import pytesseract\n",
    "import re\n",
    "from PIL import Image"
   ]
  },
  {
   "cell_type": "code",
   "execution_count": 47,
   "metadata": {},
   "outputs": [],
   "source": [
    "# Setting path for OCR Engine i.e tesseract"
   ]
  },
  {
   "cell_type": "code",
   "execution_count": 48,
   "metadata": {},
   "outputs": [],
   "source": [
    "# Set the path for tesseract executable\n",
    "pytesseract.pytesseract.tesseract_cmd = r'C:\\Program Files (x86)\\Tesseract-OCR\\tesseract.exe'"
   ]
  },
  {
   "cell_type": "code",
   "execution_count": 49,
   "metadata": {},
   "outputs": [],
   "source": [
    "# Image file Path"
   ]
  },
  {
   "cell_type": "code",
   "execution_count": 50,
   "metadata": {},
   "outputs": [],
   "source": [
    "image_path = \"123.jpg\""
   ]
  },
  {
   "cell_type": "code",
   "execution_count": 51,
   "metadata": {},
   "outputs": [],
   "source": [
    "# Extracting all the text from the Image"
   ]
  },
  {
   "cell_type": "code",
   "execution_count": 52,
   "metadata": {},
   "outputs": [],
   "source": [
    "def extract_text_from_image(image_path):\n",
    "\n",
    "    #Extract text from image using Tesseract OCR.\n",
    "    # Read image using OpenCV\n",
    "    image = cv2.imread(image_path)\n",
    "\n",
    "    # Convert image to grayscale\n",
    "    gray = cv2.cvtColor(image, cv2.COLOR_BGR2GRAY)\n",
    "\n",
    "    # Use PIL to handle image if needed\n",
    "    pil_image = Image.fromarray(gray)\n",
    "\n",
    "    # Use Tesseract to do OCR on the image\n",
    "    text = pytesseract.image_to_string(pil_image)\n",
    "    return text"
   ]
  },
  {
   "cell_type": "code",
   "execution_count": 53,
   "metadata": {},
   "outputs": [],
   "source": [
    "# Extracting numbers from the text generated from the Image"
   ]
  },
  {
   "cell_type": "code",
   "execution_count": 54,
   "metadata": {},
   "outputs": [],
   "source": [
    "def extract_mobile_numbers(text):\n",
    "    # regular expression to detect mobile numbers\n",
    "    mobile_number_pattern = r\"\\+91 \\d{5} \\d{5}|\\+91\\d{10}|\\d{10}\"\n",
    "    #code to get mobile numbers from the text extracted\n",
    "    mobile_numbers = re.findall(mobile_number_pattern, text)\n",
    "    return mobile_numbers"
   ]
  },
  {
   "cell_type": "code",
   "execution_count": 55,
   "metadata": {},
   "outputs": [],
   "source": [
    "# Calling text Generator and Mobile Number Generator Functions"
   ]
  },
  {
   "cell_type": "code",
   "execution_count": 56,
   "metadata": {},
   "outputs": [
    {
     "name": "stdout",
     "output_type": "stream",
     "text": [
      "Extracted Text:  3:23 PM 3 H 0° -- lg‘; 'Zl'ﬂ§9.‘.|l| ..iI| E)-\n",
      "\n",
      "G Search...\n",
      "\n",
      "3 4 $+7he future is always beginning now..‘+ 1;\n",
      "\n",
      "~ ~pr!t!!\n",
      "+91 72491 96106\n",
      "\n",
      "~ ~Shubhangi Waghmare\n",
      "+91 91308 97258\n",
      "\n",
      "~ 0\n",
      ". 1 Trust The Process 3 i +91 70284 77233\n",
      "\n",
      ",\n",
      "\n",
      "~ Aryan Pawar\n",
      "+91 75583 56216\n",
      "\n",
      "~ Hrishikesh Choraghe\n",
      "Loading ______ _. +91 83789 53016\n",
      "\n",
      "1 ~ iatharva26\n",
      "SURVIVING +918104375067\n",
      "\n",
      "~ Komal Jadhwar\n",
      "Hey there! I am using Wha... +91 91127 90776\n",
      "\n",
      "‘I ~ Mayur Pawar lr©\n",
      "\n",
      "Keep your eyes on the star... +91 75077 34733\n",
      "\n",
      "1 ~ Pratham Jiremali \"'\n",
      "\\ V an-<:ﬁ%gi1erq=1’r§131maI;a +917028983335\n",
      "\n",
      "~ Pratiksha\n",
      "+91 91463 26572\n",
      "\n",
      ". ~ Pratiksha Bhosale\n",
      "+91 80100 41752\n",
      "\n",
      "\n"
     ]
    }
   ],
   "source": [
    "# Extract text from the image\n",
    "extracted_text = extract_text_from_image(image_path)\n",
    "print(\"Extracted Text: \", extracted_text)"
   ]
  },
  {
   "cell_type": "code",
   "execution_count": 57,
   "metadata": {},
   "outputs": [
    {
     "name": "stdout",
     "output_type": "stream",
     "text": [
      "Extracted Mobile Numbers:  ['+91 72491 96106', '+91 91308 97258', '+91 70284 77233', '+91 75583 56216', '+91 83789 53016', '+918104375067', '+91 91127 90776', '+91 75077 34733', '+917028983335', '+91 91463 26572', '+91 80100 41752']\n"
     ]
    }
   ],
   "source": [
    "# Extract mobile numbers from the text\n",
    "mobile_numbers = extract_mobile_numbers(extracted_text)\n",
    "print(\"Extracted Mobile Numbers: \", mobile_numbers)"
   ]
  },
  {
   "cell_type": "code",
   "execution_count": 58,
   "metadata": {},
   "outputs": [
    {
     "name": "stdout",
     "output_type": "stream",
     "text": [
      "+91 72491 96106\n",
      "+91 91308 97258\n",
      "+91 70284 77233\n",
      "+91 75583 56216\n",
      "+91 83789 53016\n",
      "+918104375067\n",
      "+91 91127 90776\n",
      "+91 75077 34733\n",
      "+917028983335\n",
      "+91 91463 26572\n",
      "+91 80100 41752\n"
     ]
    }
   ],
   "source": [
    "for i in mobile_numbers:\n",
    "    print(i)"
   ]
  },
  {
   "cell_type": "code",
   "execution_count": null,
   "metadata": {},
   "outputs": [],
   "source": []
  }
 ],
 "metadata": {
  "kernelspec": {
   "display_name": "myenv",
   "language": "python",
   "name": "python3"
  },
  "language_info": {
   "codemirror_mode": {
    "name": "ipython",
    "version": 3
   },
   "file_extension": ".py",
   "mimetype": "text/x-python",
   "name": "python",
   "nbconvert_exporter": "python",
   "pygments_lexer": "ipython3",
   "version": "3.10.5"
  }
 },
 "nbformat": 4,
 "nbformat_minor": 2
}
